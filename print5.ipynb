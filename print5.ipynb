{
  "nbformat": 4,
  "nbformat_minor": 0,
  "metadata": {
    "colab": {
      "name": "Untitled0.ipynb",
      "provenance": [],
      "include_colab_link": true
    },
    "kernelspec": {
      "name": "python3",
      "display_name": "Python 3"
    }
  },
  "cells": [
    {
      "cell_type": "markdown",
      "metadata": {
        "id": "view-in-github",
        "colab_type": "text"
      },
      "source": [
        "<a href=\"https://colab.research.google.com/github/mokshdhama27/CtCI-6th-Edition/blob/master/print5.ipynb\" target=\"_parent\"><img src=\"https://colab.research.google.com/assets/colab-badge.svg\" alt=\"Open In Colab\"/></a>"
      ]
    },
    {
      "cell_type": "code",
      "metadata": {
        "id": "_UomxK9U0pTp",
        "colab_type": "code",
        "colab": {
          "base_uri": "https://localhost:8080/",
          "height": 101
        },
        "outputId": "bcef7d30-6a71-4445-e54c-8a89f64c12a8"
      },
      "source": [
        "# IN this program we will be usin format function to turn formatter variable into other string\n",
        "\n",
        "formatter = \" {} {} {} {} {}\"\n",
        "\n",
        "print(formatter.format(1,2,3,4,5))\n",
        "print(formatter.format(\"hi\",\"bye\",\"love\",\"hate\",\"loser\"))\n",
        "print(formatter.format(True,False ,False ,True ,True))\n",
        "print(formatter.format(formatter,formatter,formatter,formatter,formatter))\n",
        "print(formatter.format(\n",
        "    \"Hi how are you\",\n",
        "    \"What would you like to have\",\n",
        "    \"tea coffee juice\",\n",
        "    \"here are some fruits\",\n",
        "    \"pleae have it\"))\n"
      ],
      "execution_count": 1,
      "outputs": [
        {
          "output_type": "stream",
          "text": [
            " 1 2 3 4 5\n",
            " hi bye love hate loser\n",
            " True False False True True\n",
            "  {} {} {} {} {}  {} {} {} {} {}  {} {} {} {} {}  {} {} {} {} {}  {} {} {} {} {}\n",
            " Hi how are you What would you like to have tea coffee juice here are some fruits pleae have it\n"
          ],
          "name": "stdout"
        }
      ]
    },
    {
      "cell_type": "code",
      "metadata": {
        "id": "6vpAXjYW1lig",
        "colab_type": "code",
        "colab": {
          "base_uri": "https://localhost:8080/",
          "height": 134
        },
        "outputId": "6dd4e2f5-7828-48ac-966c-c6ccb6a3a8f2"
      },
      "source": [
        "#More printing\n",
        "\n",
        "print(\"Raajan had a little lamp\")\n",
        "print(\"It's fleece was white as a {}.\". format('snow'))\n",
        "print(\"and every where that Raajan went\")\n",
        "print(\".\" * 12)\n",
        "\n",
        "end1 = \"P\"\n",
        "end2 = \"A\"\n",
        "end3 = \"L\"\n",
        "end4 = \"A\"\n",
        "end5 = \"K\"\n",
        "end6 = \" \"\n",
        "end7 = \"P\"\n",
        "end8 = \"A\"\n",
        "end9 = \"N\"\n",
        "end10 = \"E\"\n",
        "end11 = \"E\"\n",
        "end12 = \"R\"\n",
        "\n",
        "print(end1 + end2 + end3 +end4 + end5 + end6 + end7 + end8 + end9 + end10 + end11 + end12)\n",
        "\n",
        "#my try\n",
        "\n",
        "print(\",\" *13)\n",
        "\n",
        "wow1 = \"I\"\n",
        "wow11 = \" \"\n",
        "wow2 = \"A\"\n",
        "wow3 = \"M\"\n",
        "wow33 = \" \"\n",
        "wow4 = \"T\"\n",
        "wow5 = \"H\"\n",
        "wow6 = \"E\"\n",
        "wow66 = \" \"\n",
        "wow7 = \"B\"\n",
        "wow8 = \"E\"\n",
        "wow9 = \"S\"\n",
        "wow10 = \"T\"\n",
        "\n",
        "\n",
        "print(wow1 +wow11 +wow2 +wow3 +wow33 + wow4 +wow5 +wow6 + wow66 + wow7 +wow8 +wow9 +wow10)\n",
        "\n"
      ],
      "execution_count": 2,
      "outputs": [
        {
          "output_type": "stream",
          "text": [
            "Raajan had a little lamp\n",
            "It's fleece was white as a snow.\n",
            "and every where that Raajan went\n",
            "............\n",
            "PALAK PANEER\n",
            ",,,,,,,,,,,,,\n",
            "I AM THE BEST\n"
          ],
          "name": "stdout"
        }
      ]
    }
  ]
}